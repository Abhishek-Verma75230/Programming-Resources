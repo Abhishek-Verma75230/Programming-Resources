{
 "cells": [
  {
   "cell_type": "code",
   "execution_count": 1,
   "metadata": {},
   "outputs": [],
   "source": [
    "import pandas as pd\n",
    "import numpy as np\n",
    "import matplotlib.pyplot as plt"
   ]
  },
  {
   "cell_type": "markdown",
   "metadata": {},
   "source": [
    "# Q1"
   ]
  },
  {
   "cell_type": "code",
   "execution_count": 2,
   "metadata": {},
   "outputs": [
    {
     "name": "stdout",
     "output_type": "stream",
     "text": [
      "Coefficients\n",
      "0.6 2.5250000000000004\n"
     ]
    }
   ],
   "source": [
    "\n",
    "X = np.array([8,3,2,10,11,3,6,5])\n",
    "Y = np.array([4,12,1,12,9,4,6,1])\n",
    "\n",
    "mean_x = np.mean(X)\n",
    "mean_y = np.mean(Y)\n",
    "\n",
    "n = len(X)\n",
    "\n",
    "numer = 0\n",
    "denom =0\n",
    "\n",
    "for i in range(n):\n",
    "    numer+=(X[i]-mean_x )*(Y[i]-mean_y)\n",
    "    denom += (X[i]-mean_x)**2\n",
    "m = numer/denom\n",
    "c = mean_y-(m*mean_x)\n",
    "    \n",
    "    \n",
    "print(\"Coefficients\")\n",
    "print(m,c)\n"
   ]
  },
  {
   "cell_type": "code",
   "execution_count": 3,
   "metadata": {},
   "outputs": [
    {
     "data": {
      "image/png": "[encoded data removed]",
      "text/plain": [
       "<Figure size 432x288 with 1 Axes>"
      ]
     },
     "metadata": {
      "needs_background": "light"
     },
     "output_type": "display_data"
    }
   ],
   "source": [
    "# Plotting the line of best fit\n",
    "# Plotting Values and Regression Line\n",
    " \n",
    "max_x = np.max(X)\n",
    "min_x = np.min(X) \n",
    " \n",
    "# Calculating line values x and y\n",
    "x = np.linspace(min_x, max_x, 1000)\n",
    "y = c + m * x\n",
    " \n",
    "# Ploting Line\n",
    "plt.plot(x, y, color='#58b970', label='Regression Line')\n",
    "# Ploting Scatter Points\n",
    "plt.scatter(X, Y, c='#ef5423', label='Scatter Plot')\n",
    " \n",
    "plt.xlabel('X')\n",
    "plt.ylabel('Y')\n",
    "plt.legend()\n",
    "plt.show()"
   ]
  },
  {
   "cell_type": "markdown",
   "metadata": {},
   "source": [
    "# Q2 "
   ]
  },
  {
   "cell_type": "code",
   "execution_count": 4,
   "metadata": {},
   "outputs": [
    {
     "name": "stdout",
     "output_type": "stream",
     "text": [
      "Coefficients\n",
      "1.518292682926829 0.30487804878048763\n"
     ]
    }
   ],
   "source": [
    "X = np.array([2,3,5,7,9])\n",
    "Y = np.array([4,5,7,10,15])\n",
    "mean_x = np.mean(X)\n",
    "mean_y = np.mean(Y)\n",
    "\n",
    "n = len(X)\n",
    "\n",
    "numer = 0\n",
    "denom =0\n",
    "\n",
    "for i in range(n):\n",
    "    numer+=(X[i]-mean_x )*(Y[i]-mean_y)\n",
    "    denom += (X[i]-mean_x)**2\n",
    "m = numer/denom\n",
    "c = mean_y-(m*mean_x)\n",
    "    \n",
    "    \n",
    "print(\"Coefficients\")\n",
    "print(m,c)\n",
    "\n"
   ]
  },
  {
   "cell_type": "code",
   "execution_count": 5,
   "metadata": {},
   "outputs": [
    {
     "data": {
      "image/png": "[encoded data removed]",
      "text/plain": [
       "<Figure size 432x288 with 1 Axes>"
      ]
     },
     "metadata": {
      "needs_background": "light"
     },
     "output_type": "display_data"
    }
   ],
   "source": [
    "# Plotting the line of best fit\n",
    "# Plotting Values and Regression Line\n",
    " \n",
    "max_x = np.max(X)\n",
    "min_x = np.min(X) \n",
    " \n",
    "# Calculating line values x and y\n",
    "x = np.linspace(min_x, max_x, 1000)\n",
    "y = c + m * x\n",
    " \n",
    "# Ploting Line\n",
    "plt.plot(x, y, color='#58b970', label='Regression Line')\n",
    "# Ploting Scatter Points\n",
    "plt.scatter(X, Y, c='#ef5423', label='Scatter Plot')\n",
    " \n",
    "plt.xlabel('Hours of sunshine')\n",
    "plt.ylabel('Ice cream sold')\n",
    "plt.legend()\n",
    "plt.show()"
   ]
  },
  {
   "cell_type": "code",
   "execution_count": 6,
   "metadata": {},
   "outputs": [
    {
     "name": "stdout",
     "output_type": "stream",
     "text": [
      "12.45121951219512\n"
     ]
    }
   ],
   "source": [
    "f = c+m*(8)\n",
    "print(f)"
   ]
  },
  {
   "cell_type": "markdown",
   "metadata": {},
   "source": [
    "# Q3"
   ]
  },
  {
   "cell_type": "code",
   "execution_count": 7,
   "metadata": {},
   "outputs": [
    {
     "name": "stdout",
     "output_type": "stream",
     "text": [
      "Coefficients\n",
      "0.8669724770642202 8.205275229357799\n"
     ]
    }
   ],
   "source": [
    "X = np.array([16,12,18,4,3,10,5,12])\n",
    "Y = np.array([8,8,9,6,6,8,7,83])\n",
    "mean_x = np.mean(X)\n",
    "mean_y = np.mean(Y)\n",
    "\n",
    "n = len(X)\n",
    "\n",
    "numer = 0\n",
    "denom =0\n",
    "\n",
    "for i in range(n):\n",
    "    numer+=(X[i]-mean_x )*(Y[i]-mean_y)\n",
    "    denom += (X[i]-mean_x)**2\n",
    "m = numer/denom\n",
    "c = mean_y-(m*mean_x)\n",
    "    \n",
    "    \n",
    "print(\"Coefficients\")\n",
    "print(m,c)\n",
    "\n"
   ]
  },
  {
   "cell_type": "code",
   "execution_count": 8,
   "metadata": {},
   "outputs": [
    {
     "data": {
      "image/png": "[encoded data removed]",
      "text/plain": [
       "<Figure size 432x288 with 1 Axes>"
      ]
     },
     "metadata": {
      "needs_background": "light"
     },
     "output_type": "display_data"
    }
   ],
   "source": [
    "# Plotting the line of best fit\n",
    "# Plotting Values and Regression Line\n",
    " \n",
    "max_x = np.max(X)\n",
    "min_x = np.min(X)\n",
    " \n",
    "# Calculating line values x and y\n",
    "x = np.linspace(min_x, max_x, 1000)\n",
    "y = c + m * x\n",
    " \n",
    "# Ploting Line\n",
    "plt.plot(x, y, color='#58b970', label='Regression Line')\n",
    "# Ploting Scatter Points\n",
    "plt.scatter(X, Y, c='#ef5423', label='Scatter Plot')\n",
    " \n",
    "plt.xlabel('Exp')\n",
    "plt.ylabel('Performance')\n",
    "plt.legend()\n",
    "plt.show()"
   ]
  },
  {
   "cell_type": "code",
   "execution_count": 9,
   "metadata": {},
   "outputs": [
    {
     "name": "stdout",
     "output_type": "stream",
     "text": [
      "29.879587155963304\n"
     ]
    }
   ],
   "source": [
    "per = c+m*25\n",
    "print(per)"
   ]
  },
  {
   "cell_type": "markdown",
   "metadata": {},
   "source": [
    "# Q4 "
   ]
  },
  {
   "cell_type": "code",
   "execution_count": 10,
   "metadata": {},
   "outputs": [
    {
     "name": "stdout",
     "output_type": "stream",
     "text": [
      "2.5200378668349632 -25.0287156831808\n"
     ]
    },
    {
     "data": {
      "image/png": "[encoded data removed]",
      "text/plain": [
       "<Figure size 432x288 with 1 Axes>"
      ]
     },
     "metadata": {
      "needs_background": "light"
     },
     "output_type": "display_data"
    }
   ],
   "source": [
    "import numpy as np\n",
    "import pandas as pd\n",
    "from matplotlib import pyplot as plt\n",
    "\n",
    "from sklearn.linear_model import LinearRegression\n",
    "\n",
    "# LinearRegression will expect an array of shape (n, 1) \n",
    "# for the \"Training data\"\n",
    "X = np.array([10, 12, 14, 16, 18, 20, 22, 24, 25, 28]).reshape((-1, 1))\n",
    "# target data is array of shape (n,) \n",
    "y = np.array([1, 5, 10, 15, 20, 25, 30, 35, 40, 45])\n",
    "\n",
    "\n",
    "model2 = LinearRegression()\n",
    "model2.fit(X, y)\n",
    "\n",
    "plt.scatter(X, y,color='g')\n",
    "plt.plot(X, model2.predict(X),color='k')\n",
    "m = model2.coef_[0]\n",
    "c = model2.intercept_\n",
    "print(m,c)\n",
    "\n",
    "plt.show()"
   ]
  },
  {
   "cell_type": "code",
   "execution_count": 11,
   "metadata": {
    "scrolled": true
   },
   "outputs": [],
   "source": [
    "# X = np.array([10,12,14,16,18,20,22,24,25,28])\n",
    "# Y = np.array([1,5,10,15,20,25,30,35,40,45])\n",
    "\n",
    "# mean_x = np.mean(X)\n",
    "# mean_y = np.mean(Y)\n",
    "\n",
    "# n = len(X)\n",
    "\n",
    "# numer = 0\n",
    "# denom =0\n",
    "\n",
    "# for i in range(n):\n",
    "#     numer+=(X[i]-mean_x )*(Y[i]-mean_y)\n",
    "#     denom += (X[i]-mean_x)**2\n",
    "# m = numer/denom\n",
    "# c = mean_y-(m*mean_x)\n",
    "    \n",
    "    \n",
    "# print(\"Coefficients\")\n",
    "# print(m,c)\n",
    "\n"
   ]
  },
  {
   "cell_type": "code",
   "execution_count": 12,
   "metadata": {},
   "outputs": [],
   "source": [
    "# # Plotting the line of best fit\n",
    "# # Plotting Values and Regression Line\n",
    " \n",
    "# max_x = np.max(X) \n",
    "# min_x = np.min(X) \n",
    " \n",
    "# # Calculating line values x and y\n",
    "# x = np.linspace(min_x, max_x, 1000)\n",
    "# y = c + m * x\n",
    " \n",
    "# # Ploting Line\n",
    "# plt.plot(x, y, color='#58b970', label='Regression Line')\n",
    "# # Ploting Scatter Points\n",
    "# plt.scatter(X, Y, c='#ef5423', label='Scatter Plot')\n",
    " \n",
    "# plt.xlabel('X')\n",
    "# plt.ylabel('Y')\n",
    "# plt.legend()\n",
    "# plt.show()"
   ]
  },
  {
   "cell_type": "code",
   "execution_count": null,
   "metadata": {},
   "outputs": [],
   "source": []
  },
  {
   "cell_type": "code",
   "execution_count": null,
   "metadata": {},
   "outputs": [],
   "source": []
  },
  {
   "cell_type": "code",
   "execution_count": null,
   "metadata": {},
   "outputs": [],
   "source": []
  }
 ],
 "metadata": {
  "kernelspec": {
   "display_name": "Python 3",
   "language": "python",
   "name": "python3"
  },
  "language_info": {
   "codemirror_mode": {
    "name": "ipython",
    "version": 3
   },
   "file_extension": ".py",
   "mimetype": "text/x-python",
   "name": "python",
   "nbconvert_exporter": "python",
   "pygments_lexer": "ipython3",
   "version": "3.8.5"
  }
 },
 "nbformat": 4,
 "nbformat_minor": 4
}
