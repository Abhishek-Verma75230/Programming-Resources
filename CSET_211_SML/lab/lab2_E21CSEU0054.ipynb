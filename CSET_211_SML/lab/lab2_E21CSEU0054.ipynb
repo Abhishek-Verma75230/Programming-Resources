{
 "cells": [
  {
   "cell_type": "markdown",
   "metadata": {},
   "source": [
    "# Lab Assignment 2 \n",
    "# Vashu Agarwal E21CSEU0054\n"
   ]
  },
  {
   "cell_type": "code",
   "execution_count": 11,
   "metadata": {},
   "outputs": [
    {
     "name": "stdout",
     "output_type": "stream",
     "text": [
      "   carat      cut color clarity  depth  table  price     x     y     z\n",
      "0   0.23    Ideal     E     SI2   61.5   55.0    326  3.95  3.98  2.43\n",
      "1   0.21  Premium     E     SI1   59.8   61.0    326  3.89  3.84  2.31\n",
      "2   0.23     Good     E     VS1   56.9   65.0    327  4.05  4.07  2.31\n",
      "3   0.29  Premium     I     VS2   62.4   58.0    334  4.20  4.23  2.63\n",
      "4   0.31     Good     J     SI2   63.3   58.0    335  4.34  4.35  2.75\n"
     ]
    }
   ],
   "source": [
    "# Q1\n",
    "import pandas as pd\n",
    "diamonds = pd.read_csv('https://raw.githubusercontent.com/mwaskom/seaborn-data/master/diamonds.csv')\n",
    "print (diamonds.head(5))"
   ]
  },
  {
   "cell_type": "code",
   "execution_count": 17,
   "metadata": {},
   "outputs": [
    {
     "name": "stdout",
     "output_type": "stream",
     "text": [
      "   carat        cut     x     y     z\n",
      "0   0.23      Ideal  3.95  3.98  2.43\n",
      "1   0.21    Premium  3.89  3.84  2.31\n",
      "2   0.23       Good  4.05  4.07  2.31\n",
      "3   0.29    Premium  4.20  4.23  2.63\n",
      "4   0.31       Good  4.34  4.35  2.75\n",
      "5   0.24  Very Good  3.94  3.96  2.48\n"
     ]
    }
   ],
   "source": [
    "# Q2\n",
    "cols = ['carat','cut','x','y','z']\n",
    "print (diamonds[cols].head(6))"
   ]
  },
  {
   "cell_type": "code",
   "execution_count": 16,
   "metadata": {},
   "outputs": [
    {
     "name": "stdout",
     "output_type": "stream",
     "text": [
      "0            Ideal\n",
      "1          Premium\n",
      "2             Good\n",
      "3          Premium\n",
      "4             Good\n",
      "           ...    \n",
      "53935        Ideal\n",
      "53936         Good\n",
      "53937    Very Good\n",
      "53938      Premium\n",
      "53939        Ideal\n",
      "Name: cut, Length: 53940, dtype: object\n"
     ]
    }
   ],
   "source": [
    "# Q3\n",
    "print (diamonds['cut'])"
   ]
  },
  {
   "cell_type": "code",
   "execution_count": 18,
   "metadata": {},
   "outputs": [
    {
     "name": "stdout",
     "output_type": "stream",
     "text": [
      "   carat      cut color clarity  depth  table  price     x     y     z  \\\n",
      "0   0.23    Ideal     E     SI2   61.5   55.0    326  3.95  3.98  2.43   \n",
      "1   0.21  Premium     E     SI1   59.8   61.0    326  3.89  3.84  2.31   \n",
      "2   0.23     Good     E     VS1   56.9   65.0    327  4.05  4.07  2.31   \n",
      "3   0.29  Premium     I     VS2   62.4   58.0    334  4.20  4.23  2.63   \n",
      "4   0.31     Good     J     SI2   63.3   58.0    335  4.34  4.35  2.75   \n",
      "\n",
      "  Quality–color  \n",
      "0      Ideal, E  \n",
      "1    Premium, E  \n",
      "2       Good, E  \n",
      "3    Premium, I  \n",
      "4       Good, J  \n"
     ]
    }
   ],
   "source": [
    "#Q4\n",
    "diamonds['Quality–color'] = diamonds.cut + ', ' + diamonds.color\n",
    "print(diamonds.head())"
   ]
  },
  {
   "cell_type": "code",
   "execution_count": 28,
   "metadata": {},
   "outputs": [
    {
     "name": "stdout",
     "output_type": "stream",
     "text": [
      "Number of rows and columns\n",
      "(53940, 10)\n",
      "\n",
      "Data types\n",
      "carat      float64\n",
      "cut         object\n",
      "color       object\n",
      "clarity     object\n",
      "depth      float64\n",
      "table      float64\n",
      "price        int64\n",
      "x          float64\n",
      "y          float64\n",
      "z          float64\n",
      "dtype: object\n"
     ]
    }
   ],
   "source": [
    "# Q5\n",
    "\n",
    "import pandas as pd\n",
    "diamonds = pd.read_csv('https://raw.githubusercontent.com/mwaskom/seaborn-data/master/diamonds.csv')\n",
    "print(\"Number of rows and columns\")\n",
    "print(diamonds.shape)\n",
    "print()\n",
    "print(\"Data types\")\n",
    "print(diamonds.dtypes)\n"
   ]
  },
  {
   "cell_type": "code",
   "execution_count": 29,
   "metadata": {},
   "outputs": [
    {
     "name": "stdout",
     "output_type": "stream",
     "text": [
      "Summary of 'object' columns\n",
      "          cut  color clarity\n",
      "count   53940  53940   53940\n",
      "unique      5      7       8\n",
      "top     Ideal      G     SI1\n",
      "freq    21551  11292   13065\n"
     ]
    }
   ],
   "source": [
    "# Q6\n",
    "\n",
    "print(\"Summary of 'object' columns\")\n",
    "print(diamonds.describe(include=['object']))"
   ]
  },
  {
   "cell_type": "code",
   "execution_count": 30,
   "metadata": {},
   "outputs": [
    {
     "name": "stdout",
     "output_type": "stream",
     "text": [
      "\n",
      "Rows in which the ‘cut’  is ‘Premium’, column ‘color’:\n",
      "1        E\n",
      "3        I\n",
      "12       F\n",
      "14       E\n",
      "15       E\n",
      "        ..\n",
      "53928    E\n",
      "53930    E\n",
      "53931    F\n",
      "53934    D\n",
      "53938    H\n",
      "Name: color, Length: 13791, dtype: object\n"
     ]
    }
   ],
   "source": [
    "# Q7\n",
    "\n",
    "print(\"\\nRows in which the ‘cut’  is ‘Premium’, column ‘color’:\")\n",
    "print(diamonds.loc[diamonds.cut=='Premium', 'color'])"
   ]
  },
  {
   "cell_type": "code",
   "execution_count": 37,
   "metadata": {},
   "outputs": [
    {
     "name": "stdout",
     "output_type": "stream",
     "text": [
      "\n",
      "Concatenate the 'diamonds' DataFrame with the 'color' Series:\n",
      "   carat      cut color clarity  depth  table  price     x     y     z color\n",
      "0   0.23    Ideal     E     SI2   61.5   55.0    326  3.95  3.98  2.43     E\n",
      "1   0.21  Premium     E     SI1   59.8   61.0    326  3.89  3.84  2.31     E\n",
      "2   0.23     Good     E     VS1   56.9   65.0    327  4.05  4.07  2.31     E\n",
      "3   0.29  Premium     I     VS2   62.4   58.0    334  4.20  4.23  2.63     I\n",
      "4   0.31     Good     J     SI2   63.3   58.0    335  4.34  4.35  2.75     J\n"
     ]
    }
   ],
   "source": [
    "# Q8\n",
    "print(\"\\nConcatenate the 'diamonds' DataFrame with the 'color' Series:\")\n",
    "print(pd.concat([diamonds, diamonds.color],axis = 1).head())"
   ]
  },
  {
   "cell_type": "code",
   "execution_count": 38,
   "metadata": {},
   "outputs": [
    {
     "name": "stdout",
     "output_type": "stream",
     "text": [
      "\n",
      "Multiply of length, width and depth for each cut:\n",
      "0    38.202030\n",
      "1    34.505856\n",
      "2    38.076885\n",
      "3    46.724580\n",
      "4    51.917250\n",
      "dtype: float64\n"
     ]
    }
   ],
   "source": [
    "# Q9\n",
    "print(\"\\nMultiply of length, width and depth for each cut:\")\n",
    "print((diamonds.x*diamonds.y*diamonds.z).head())"
   ]
  },
  {
   "cell_type": "code",
   "execution_count": 33,
   "metadata": {},
   "outputs": [
    {
     "name": "stdout",
     "output_type": "stream",
     "text": [
      "Number of rows and columns:\n",
      "(53940, 10)\n",
      "After droping those rows where values are missing:\n",
      "(53940, 10)\n"
     ]
    }
   ],
   "source": [
    "# Q10\n",
    "print(\"Number of rows and columns:\")\n",
    "print(diamonds.shape)\n",
    "print(\"After droping those rows where values are missing:\")\n",
    "print(diamonds.dropna(how='any').shape)"
   ]
  },
  {
   "cell_type": "code",
   "execution_count": 35,
   "metadata": {},
   "outputs": [
    {
     "name": "stdout",
     "output_type": "stream",
     "text": [
      "After droping those rows where any value in a row is missing in carat and cut columns:\n",
      "(53940, 10)\n"
     ]
    }
   ],
   "source": [
    "#Q11\n",
    "\n",
    "print(\"After droping those rows where any value in a row is missing in carat and cut columns:\")\n",
    "print(diamonds.dropna(subset=['carat', 'cut'], how='any').shape)\n"
   ]
  },
  {
   "cell_type": "code",
   "execution_count": null,
   "metadata": {},
   "outputs": [],
   "source": []
  }
 ],
 "metadata": {
  "kernelspec": {
   "display_name": "Python 3",
   "language": "python",
   "name": "python3"
  },
  "language_info": {
   "codemirror_mode": {
    "name": "ipython",
    "version": 3
   },
   "file_extension": ".py",
   "mimetype": "text/x-python",
   "name": "python",
   "nbconvert_exporter": "python",
   "pygments_lexer": "ipython3",
   "version": "3.8.5"
  }
 },
 "nbformat": 4,
 "nbformat_minor": 4
}
